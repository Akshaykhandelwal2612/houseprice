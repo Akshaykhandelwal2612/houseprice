{
 "cells": [
  {
   "cell_type": "code",
   "execution_count": 58,
   "metadata": {
    "_cell_guid": "b1076dfc-b9ad-4769-8c92-a6c4dae69d19",
    "_uuid": "8f2839f25d086af736a60e9eeb907d3b93b6e0e5",
    "execution": {
     "iopub.execute_input": "2022-03-15T23:06:25.578368Z",
     "iopub.status.busy": "2022-03-15T23:06:25.578115Z",
     "iopub.status.idle": "2022-03-15T23:06:25.588685Z",
     "shell.execute_reply": "2022-03-15T23:06:25.587761Z",
     "shell.execute_reply.started": "2022-03-15T23:06:25.578339Z"
    }
   },
   "outputs": [],
   "source": [
    "# This Python 3 environment comes with many helpful analytics libraries installed\n",
    "# It is defined by the kaggle/python Docker image: https://github.com/kaggle/docker-python\n",
    "# For example, here's several helpful packages to load\n",
    "\n",
    "import numpy as np # linear algebra\n",
    "import pandas as pd # data processing, CSV file I/O (e.g. pd.read_csv)\n",
    "\n",
    "# Input data files are available in the read-only \"../input/\" directory\n",
    "# For example, running this (by clicking run or pressing Shift+Enter) will list all files under the input directory\n",
    "\n",
    "import os\n",
    "for dirname, _, filenames in os.walk('/kaggle/input'):\n",
    "    for filename in filenames:\n",
    "        print(os.path.join(dirname, filename))\n",
    "\n",
    "# You can write up to 20GB to the current directory (/kaggle/working/) that gets preserved as output when you create a version using \"Save & Run All\" \n",
    "# You can also write temporary files to /kaggle/temp/, but they won't be saved outside of the current session"
   ]
  },
  {
   "cell_type": "code",
   "execution_count": 59,
   "metadata": {
    "execution": {
     "iopub.execute_input": "2022-03-15T23:06:26.644785Z",
     "iopub.status.busy": "2022-03-15T23:06:26.644217Z",
     "iopub.status.idle": "2022-03-15T23:06:26.648432Z",
     "shell.execute_reply": "2022-03-15T23:06:26.647500Z",
     "shell.execute_reply.started": "2022-03-15T23:06:26.644746Z"
    }
   },
   "outputs": [],
   "source": [
    "os.chdir(\"/kaggle/input/house-prices-advanced-regression-techniques\" )"
   ]
  },
  {
   "cell_type": "code",
   "execution_count": 60,
   "metadata": {
    "execution": {
     "iopub.execute_input": "2022-03-15T23:06:26.989768Z",
     "iopub.status.busy": "2022-03-15T23:06:26.987172Z",
     "iopub.status.idle": "2022-03-15T23:06:26.996988Z",
     "shell.execute_reply": "2022-03-15T23:06:26.996065Z",
     "shell.execute_reply.started": "2022-03-15T23:06:26.989721Z"
    }
   },
   "outputs": [],
   "source": [
    "import cudf as pd\n",
    "import cupy as np\n",
    "import matplotlib.pyplot as plt\n",
    "from cuml.metrics.regression import r2_score, mean_squared_error as mse, mean_absolute_error as mae\n",
    "from cuml.preprocessing import StandardScaler\n",
    "from cuml import LinearRegression\n",
    "import seaborn as sns"
   ]
  },
  {
   "cell_type": "code",
   "execution_count": 61,
   "metadata": {
    "execution": {
     "iopub.execute_input": "2022-03-15T23:06:27.341858Z",
     "iopub.status.busy": "2022-03-15T23:06:27.341233Z",
     "iopub.status.idle": "2022-03-15T23:06:27.471779Z",
     "shell.execute_reply": "2022-03-15T23:06:27.471069Z",
     "shell.execute_reply.started": "2022-03-15T23:06:27.341818Z"
    }
   },
   "outputs": [],
   "source": [
    "train = pd.read_csv( \"train.csv\" , index_col= [ \"Id\" ])\n",
    "test = pd.read_csv( \"test.csv\" , index_col= [ \"Id\" ])"
   ]
  },
  {
   "cell_type": "code",
   "execution_count": 62,
   "metadata": {
    "execution": {
     "iopub.execute_input": "2022-03-15T23:06:29.543347Z",
     "iopub.status.busy": "2022-03-15T23:06:29.542643Z",
     "iopub.status.idle": "2022-03-15T23:06:29.547572Z",
     "shell.execute_reply": "2022-03-15T23:06:29.546822Z",
     "shell.execute_reply.started": "2022-03-15T23:06:29.543310Z"
    }
   },
   "outputs": [],
   "source": [
    "\n",
    "\n",
    "print (f'Shape of training data: {train . shape} ' )\n",
    "print (f'Shape of testing data: {test . shape} ' )"
   ]
  },
  {
   "cell_type": "code",
   "execution_count": 63,
   "metadata": {
    "execution": {
     "iopub.execute_input": "2022-03-15T23:06:29.962012Z",
     "iopub.status.busy": "2022-03-15T23:06:29.961429Z",
     "iopub.status.idle": "2022-03-15T23:06:30.016564Z",
     "shell.execute_reply": "2022-03-15T23:06:30.015823Z",
     "shell.execute_reply.started": "2022-03-15T23:06:29.961975Z"
    }
   },
   "outputs": [],
   "source": [
    "train.info()"
   ]
  },
  {
   "cell_type": "code",
   "execution_count": 64,
   "metadata": {
    "execution": {
     "iopub.execute_input": "2022-03-15T23:06:30.413963Z",
     "iopub.status.busy": "2022-03-15T23:06:30.413413Z",
     "iopub.status.idle": "2022-03-15T23:06:31.520786Z",
     "shell.execute_reply": "2022-03-15T23:06:31.519937Z",
     "shell.execute_reply.started": "2022-03-15T23:06:30.413924Z"
    }
   },
   "outputs": [],
   "source": [
    "plt.figure(figsize = (25, 9))\n",
    "missings = train.to_pandas().isnull().sum() / len(train)\n",
    "missings.plot.bar()\n",
    "plt.axhline(0.8, color= 'r')\n",
    "plt.axhline(0.5, color= 'b')\n",
    "plt.xlabel(\"Columns\")\n",
    "plt.ylabel(\"Missing Entries Ratio\")\n",
    "plt.xticks(rotation= \"vertical\")\n",
    "plt.show()"
   ]
  },
  {
   "cell_type": "code",
   "execution_count": 65,
   "metadata": {
    "execution": {
     "iopub.execute_input": "2022-03-15T23:06:31.522786Z",
     "iopub.status.busy": "2022-03-15T23:06:31.522549Z",
     "iopub.status.idle": "2022-03-15T23:06:31.567736Z",
     "shell.execute_reply": "2022-03-15T23:06:31.566981Z",
     "shell.execute_reply.started": "2022-03-15T23:06:31.522756Z"
    }
   },
   "outputs": [],
   "source": [
    "columns_to_drop = [feature for feature in train.columns if train[feature].isnull().sum() >= 0.45*len(train)]\n",
    "print(columns_to_drop)\n"
   ]
  },
  {
   "cell_type": "code",
   "execution_count": 66,
   "metadata": {
    "execution": {
     "iopub.execute_input": "2022-03-15T23:06:31.569383Z",
     "iopub.status.busy": "2022-03-15T23:06:31.568831Z",
     "iopub.status.idle": "2022-03-15T23:06:31.575305Z",
     "shell.execute_reply": "2022-03-15T23:06:31.574532Z",
     "shell.execute_reply.started": "2022-03-15T23:06:31.569344Z"
    }
   },
   "outputs": [],
   "source": [
    "train.drop(columns_to_drop, axis= 1, inplace= True)\n",
    "test.drop(columns_to_drop, axis= 1, inplace= True)"
   ]
  },
  {
   "cell_type": "code",
   "execution_count": 67,
   "metadata": {
    "execution": {
     "iopub.execute_input": "2022-03-15T23:06:31.590571Z",
     "iopub.status.busy": "2022-03-15T23:06:31.590346Z",
     "iopub.status.idle": "2022-03-15T23:06:31.595340Z",
     "shell.execute_reply": "2022-03-15T23:06:31.594399Z",
     "shell.execute_reply.started": "2022-03-15T23:06:31.590545Z"
    }
   },
   "outputs": [],
   "source": [
    "print(f'Shape of training data: {train.shape}')\n",
    "print(f'Shape of testing data: {test.shape}')"
   ]
  },
  {
   "cell_type": "code",
   "execution_count": 68,
   "metadata": {
    "execution": {
     "iopub.execute_input": "2022-03-15T23:06:31.936539Z",
     "iopub.status.busy": "2022-03-15T23:06:31.935621Z",
     "iopub.status.idle": "2022-03-15T23:06:31.949154Z",
     "shell.execute_reply": "2022-03-15T23:06:31.948348Z",
     "shell.execute_reply.started": "2022-03-15T23:06:31.936467Z"
    }
   },
   "outputs": [],
   "source": [
    "numerical_features = [column for column in train.columns if train[column].dtype != 'object']\n",
    "categorical_features = [column for column in train.columns if train[column].dtype == 'object']\n",
    "print(f'Number of Numerical Features are {len(numerical_features)}')\n",
    "print(f'Number of Categorical Features are {len(categorical_features)}')"
   ]
  },
  {
   "cell_type": "code",
   "execution_count": 69,
   "metadata": {
    "execution": {
     "iopub.execute_input": "2022-03-15T23:06:32.246417Z",
     "iopub.status.busy": "2022-03-15T23:06:32.245857Z",
     "iopub.status.idle": "2022-03-15T23:06:38.187339Z",
     "shell.execute_reply": "2022-03-15T23:06:38.186542Z",
     "shell.execute_reply.started": "2022-03-15T23:06:32.246377Z"
    }
   },
   "outputs": [],
   "source": [
    "plt.figure(figsize= (30, 30))\n",
    "sns.heatmap(train[numerical_features].to_pandas().corr(), annot= True)\n"
   ]
  },
  {
   "cell_type": "code",
   "execution_count": 70,
   "metadata": {
    "execution": {
     "iopub.execute_input": "2022-03-15T23:06:38.189314Z",
     "iopub.status.busy": "2022-03-15T23:06:38.189074Z",
     "iopub.status.idle": "2022-03-15T23:06:38.194684Z",
     "shell.execute_reply": "2022-03-15T23:06:38.193856Z",
     "shell.execute_reply.started": "2022-03-15T23:06:38.189282Z"
    }
   },
   "outputs": [],
   "source": [
    "correlated_numerical_features = ['GarageYrBlt', 'GarageArea']\n",
    "train.drop(correlated_numerical_features, axis= 1, inplace= True)\n",
    "test.drop(correlated_numerical_features, axis= 1, inplace= True)"
   ]
  },
  {
   "cell_type": "code",
   "execution_count": 71,
   "metadata": {
    "execution": {
     "iopub.execute_input": "2022-03-15T23:06:38.196702Z",
     "iopub.status.busy": "2022-03-15T23:06:38.196202Z",
     "iopub.status.idle": "2022-03-15T23:06:39.188294Z",
     "shell.execute_reply": "2022-03-15T23:06:39.186776Z",
     "shell.execute_reply.started": "2022-03-15T23:06:38.196643Z"
    }
   },
   "outputs": [],
   "source": [
    "print([feature for feature in categorical_features if train[feature].isna().sum() > 0])\n",
    "for feature in categorical_features:\n",
    "    train[feature] = train[feature].fillna(train[feature].mode().iloc[0])\n",
    "    test[feature] = test[feature].fillna(test[feature].mode().iloc[0])\n",
    "print([feature for feature in categorical_features if train[feature].isna().sum() > 0])"
   ]
  },
  {
   "cell_type": "code",
   "execution_count": 72,
   "metadata": {
    "execution": {
     "iopub.execute_input": "2022-03-15T23:06:39.190324Z",
     "iopub.status.busy": "2022-03-15T23:06:39.190127Z",
     "iopub.status.idle": "2022-03-15T23:06:39.203197Z",
     "shell.execute_reply": "2022-03-15T23:06:39.202425Z",
     "shell.execute_reply.started": "2022-03-15T23:06:39.190299Z"
    }
   },
   "outputs": [],
   "source": [
    "numerical_features = [column for column in train.columns if train[column].dtype != 'object']\n",
    "numerical_features.remove('SalePrice')\n",
    "categorical_features = [column for column in train.columns if train[column].dtype == 'object']\n"
   ]
  },
  {
   "cell_type": "code",
   "execution_count": 73,
   "metadata": {
    "execution": {
     "iopub.execute_input": "2022-03-15T23:06:39.205186Z",
     "iopub.status.busy": "2022-03-15T23:06:39.204429Z",
     "iopub.status.idle": "2022-03-15T23:06:39.330620Z",
     "shell.execute_reply": "2022-03-15T23:06:39.329723Z",
     "shell.execute_reply.started": "2022-03-15T23:06:39.205140Z"
    }
   },
   "outputs": [],
   "source": [
    "print([feature for feature in numerical_features if train[feature].isna().sum() > 0])\n",
    "for feature in numerical_features:\n",
    "    train[feature] = train[feature].fillna(train[feature].median())\n",
    "    test[feature] = test[feature].fillna(test[feature].median())\n",
    "print([feature for feature in numerical_features if train[feature].isna().sum() > 0])"
   ]
  },
  {
   "cell_type": "code",
   "execution_count": 74,
   "metadata": {
    "execution": {
     "iopub.execute_input": "2022-03-15T23:06:39.332625Z",
     "iopub.status.busy": "2022-03-15T23:06:39.331829Z",
     "iopub.status.idle": "2022-03-15T23:06:39.338281Z",
     "shell.execute_reply": "2022-03-15T23:06:39.337468Z",
     "shell.execute_reply.started": "2022-03-15T23:06:39.332584Z"
    }
   },
   "outputs": [],
   "source": [
    "len(numerical_features)"
   ]
  },
  {
   "cell_type": "code",
   "execution_count": 75,
   "metadata": {
    "execution": {
     "iopub.execute_input": "2022-03-15T23:06:39.340547Z",
     "iopub.status.busy": "2022-03-15T23:06:39.339942Z",
     "iopub.status.idle": "2022-03-15T23:06:39.359432Z",
     "shell.execute_reply": "2022-03-15T23:06:39.358739Z",
     "shell.execute_reply.started": "2022-03-15T23:06:39.340491Z"
    }
   },
   "outputs": [],
   "source": [
    "\n",
    "Y = pd.Series(train[\"SalePrice\"], dtype = \"float64\")\n",
    "X = train.drop(\"SalePrice\", axis= 1)"
   ]
  },
  {
   "cell_type": "code",
   "execution_count": 76,
   "metadata": {
    "execution": {
     "iopub.execute_input": "2022-03-15T23:06:39.362593Z",
     "iopub.status.busy": "2022-03-15T23:06:39.362375Z",
     "iopub.status.idle": "2022-03-15T23:06:39.407999Z",
     "shell.execute_reply": "2022-03-15T23:06:39.407278Z",
     "shell.execute_reply.started": "2022-03-15T23:06:39.362567Z"
    }
   },
   "outputs": [],
   "source": [
    "all_num_data = pd.concat([X[numerical_features], test[numerical_features]])\n",
    "ss = StandardScaler()\n",
    "ss.fit(all_num_data)\n",
    "normalized_X = pd.DataFrame(ss.transform(X[numerical_features]))\n",
    "normalized_test = pd.DataFrame(ss.transform(test[numerical_features]))\n",
    "normalized_X.index = X.index\n",
    "normalized_test.index = test.index\n",
    "normalized_X.columns = numerical_features\n",
    "\n",
    "normalized_test.columns = numerical_features"
   ]
  },
  {
   "cell_type": "code",
   "execution_count": 77,
   "metadata": {
    "execution": {
     "iopub.execute_input": "2022-03-15T23:06:39.410985Z",
     "iopub.status.busy": "2022-03-15T23:06:39.410470Z",
     "iopub.status.idle": "2022-03-15T23:06:39.827317Z",
     "shell.execute_reply": "2022-03-15T23:06:39.826554Z",
     "shell.execute_reply.started": "2022-03-15T23:06:39.410936Z"
    }
   },
   "outputs": [],
   "source": [
    "train[categorical_features] = train[categorical_features].astype('category')"
   ]
  },
  {
   "cell_type": "code",
   "execution_count": 78,
   "metadata": {
    "execution": {
     "iopub.execute_input": "2022-03-15T23:06:39.833229Z",
     "iopub.status.busy": "2022-03-15T23:06:39.832792Z",
     "iopub.status.idle": "2022-03-15T23:06:40.229775Z",
     "shell.execute_reply": "2022-03-15T23:06:40.229043Z",
     "shell.execute_reply.started": "2022-03-15T23:06:39.833186Z"
    }
   },
   "outputs": [],
   "source": [
    "from cuml.preprocessing import LabelEncoder\n",
    "encoder = LabelEncoder()\n",
    "for feature in categorical_features:\n",
    "    normalized_X[feature] = encoder.fit_transform(train[feature])\n",
    "    normalized_test[feature] = encoder.fit_transform(test[feature])\n",
    "    "
   ]
  },
  {
   "cell_type": "code",
   "execution_count": 79,
   "metadata": {
    "execution": {
     "iopub.execute_input": "2022-03-15T23:06:40.231292Z",
     "iopub.status.busy": "2022-03-15T23:06:40.231041Z",
     "iopub.status.idle": "2022-03-15T23:06:40.363821Z",
     "shell.execute_reply": "2022-03-15T23:06:40.362994Z",
     "shell.execute_reply.started": "2022-03-15T23:06:40.231259Z"
    }
   },
   "outputs": [],
   "source": [
    "normalized_X.head()"
   ]
  },
  {
   "cell_type": "code",
   "execution_count": 80,
   "metadata": {
    "execution": {
     "iopub.execute_input": "2022-03-15T23:06:40.365544Z",
     "iopub.status.busy": "2022-03-15T23:06:40.365271Z",
     "iopub.status.idle": "2022-03-15T23:06:40.497403Z",
     "shell.execute_reply": "2022-03-15T23:06:40.496708Z",
     "shell.execute_reply.started": "2022-03-15T23:06:40.365508Z"
    }
   },
   "outputs": [],
   "source": [
    "normalized_test.head()"
   ]
  },
  {
   "cell_type": "code",
   "execution_count": 81,
   "metadata": {
    "execution": {
     "iopub.execute_input": "2022-03-15T23:06:40.499636Z",
     "iopub.status.busy": "2022-03-15T23:06:40.498498Z",
     "iopub.status.idle": "2022-03-15T23:06:40.513736Z",
     "shell.execute_reply": "2022-03-15T23:06:40.513090Z",
     "shell.execute_reply.started": "2022-03-15T23:06:40.499593Z"
    }
   },
   "outputs": [],
   "source": [
    "normalized_X = normalized_X.values\n",
    "Y = Y.values"
   ]
  },
  {
   "cell_type": "code",
   "execution_count": 82,
   "metadata": {
    "execution": {
     "iopub.execute_input": "2022-03-15T23:06:40.516420Z",
     "iopub.status.busy": "2022-03-15T23:06:40.514819Z",
     "iopub.status.idle": "2022-03-15T23:06:40.589169Z",
     "shell.execute_reply": "2022-03-15T23:06:40.588438Z",
     "shell.execute_reply.started": "2022-03-15T23:06:40.516389Z"
    }
   },
   "outputs": [],
   "source": [
    "algorithms = [\"svd\", \"eig\", \"qr\", \"svd-qr\", \"svd-jacobi\"]\n",
    "for i, algorithm in enumerate(algorithms):\n",
    "    lr = LinearRegression(fit_intercept= True, normalize= False, algorithm= algorithm)\n",
    "    reg = lr.fit(normalized_X, Y)\n",
    "    Y_pred = lr.predict(normalized_X)\n",
    "    print(f\"For algorithm {algorithm}: \")\n",
    "    print(f\"Mean Squared Error: {mse(Y, Y_pred)}\", end= \" \")\n",
    "    print(f\"r2_score: {r2_score(Y, Y_pred)}\", end= \" \")\n",
    "    print(f\"Mean Absolute Error: {mae(Y, Y_pred)}\")"
   ]
  },
  {
   "cell_type": "code",
   "execution_count": 83,
   "metadata": {
    "execution": {
     "iopub.execute_input": "2022-03-15T23:06:40.590611Z",
     "iopub.status.busy": "2022-03-15T23:06:40.590321Z",
     "iopub.status.idle": "2022-03-15T23:06:40.597506Z",
     "shell.execute_reply": "2022-03-15T23:06:40.596710Z",
     "shell.execute_reply.started": "2022-03-15T23:06:40.590573Z"
    }
   },
   "outputs": [],
   "source": [
    "final_model = LinearRegression(fit_intercept= True, normalize= False, algorithm= \"eig\")\n"
   ]
  },
  {
   "cell_type": "code",
   "execution_count": 84,
   "metadata": {
    "execution": {
     "iopub.execute_input": "2022-03-15T23:06:40.599025Z",
     "iopub.status.busy": "2022-03-15T23:06:40.598752Z",
     "iopub.status.idle": "2022-03-15T23:06:40.636319Z",
     "shell.execute_reply": "2022-03-15T23:06:40.635610Z",
     "shell.execute_reply.started": "2022-03-15T23:06:40.598988Z"
    }
   },
   "outputs": [],
   "source": [
    "final_model.fit(normalized_X, Y)\n",
    "pred = final_model.predict(normalized_test)"
   ]
  },
  {
   "cell_type": "code",
   "execution_count": 85,
   "metadata": {
    "execution": {
     "iopub.execute_input": "2022-03-15T23:06:42.554243Z",
     "iopub.status.busy": "2022-03-15T23:06:42.553980Z",
     "iopub.status.idle": "2022-03-15T23:06:42.603618Z",
     "shell.execute_reply": "2022-03-15T23:06:42.602833Z",
     "shell.execute_reply.started": "2022-03-15T23:06:42.554214Z"
    }
   },
   "outputs": [],
   "source": [
    "submission = pd.DataFrame({'Id': range(1461, 1461+len(test)), 'SalePrice': pred})\n"
   ]
  },
  {
   "cell_type": "code",
   "execution_count": null,
   "metadata": {},
   "outputs": [],
   "source": [
    "## kaggle notebook link https://www.kaggle.com/akshaykhandelwal2612/notebook7b05b0244e\n",
    "## github https://github.com/Akshaykhandelwal2612/houseprice.git"
   ]
  }
 ],
 "metadata": {
  "kernelspec": {
   "display_name": "Python 3",
   "language": "python",
   "name": "python3"
  },
  "language_info": {
   "codemirror_mode": {
    "name": "ipython",
    "version": 3
   },
   "file_extension": ".py",
   "mimetype": "text/x-python",
   "name": "python",
   "nbconvert_exporter": "python",
   "pygments_lexer": "ipython3",
   "version": "3.8.5"
  }
 },
 "nbformat": 4,
 "nbformat_minor": 4
}
